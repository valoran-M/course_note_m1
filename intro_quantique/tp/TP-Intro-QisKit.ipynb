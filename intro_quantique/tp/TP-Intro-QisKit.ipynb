{
 "cells": [
  {
   "cell_type": "markdown",
   "metadata": {},
   "source": [
    "# Introduction to QisKit\n",
    "\n",
    "# There is nothing to hand out here"
   ]
  },
  {
   "cell_type": "markdown",
   "metadata": {},
   "source": [
    "First, some libraries to load up front"
   ]
  },
  {
   "cell_type": "code",
   "execution_count": 25,
   "metadata": {},
   "outputs": [],
   "source": [
    "import numpy as np\n",
    "from math import pi\n",
    "try:\n",
    "    from qiskit import *\n",
    "    from matplotlib.pyplot import plot,show\n",
    "except:\n",
    "    ! python -m pip install matplotlib pylatexenc\n",
    "    ! python -m pip install qiskit\n",
    "from qiskit import *\n",
    "from qiskit.circuit import *\n",
    "from qiskit.extensions import *\n",
    "from qiskit.circuit.library import *\n",
    "from qiskit.extensions.simulator.snapshot import snapshot\n",
    "from qiskit.quantum_info.operators import Operator\n",
    "from qiskit.extensions.simulator.snapshot import snapshot\n",
    "from scipy import optimize\n",
    "from matplotlib.pyplot import plot,show\n",
    "%matplotlib inline\n",
    "%config InlineBackend.figure_format = 'svg' # Makes the images look nice"
   ]
  },
  {
   "cell_type": "markdown",
   "metadata": {},
   "source": [
    "# 1 - Circuits\n",
    "\n",
    "A circuit in QisKit acts on quantum *and* classical registers.\n",
    "\n",
    "A classical register aims at storing the result of the measurement of a quantum register."
   ]
  },
  {
   "cell_type": "code",
   "execution_count": 26,
   "metadata": {},
   "outputs": [
    {
     "data": {
      "text/plain": [
       "<qiskit.circuit.instructionset.InstructionSet at 0x7f71dafe77c0>"
      ]
     },
     "execution_count": 26,
     "metadata": {},
     "output_type": "execute_result"
    }
   ],
   "source": [
    "# Allocating 2 qubits\n",
    "q = QuantumRegister(2, name=\"x\")\n",
    "\n",
    "# Allocating 2 bits\n",
    "c = ClassicalRegister(2, name=\"y\")\n",
    "\n",
    "# We build a quantum circuit with both registers.\n",
    "# By default, everything is initialized to 0 and to |0>\n",
    "qc = QuantumCircuit(q,c)\n",
    "\n",
    "# Applying Hadamard on qubit 0:\n",
    "qc.h(q[0])\n",
    "\n",
    "# Applying X on qubit 0:\n",
    "qc.x(q[0])\n",
    "\n",
    "# Applying z on qubit 0:\n",
    "qc.z(q[0])\n",
    "\n",
    "# Applying CNOT on qubits 0 and 1:\n",
    "qc.cnot(q[0],q[1])\n",
    "\n",
    "# Mesure of all of register q, storing results in c.\n",
    "# This is still part of the circuit\n",
    "qc.measure(q, c)\n",
    "\n",
    "# A summary of native operations can be found here:\n",
    "# https://qiskit.org/documentation/tutorials/circuits/3_summary_of_quantum_operations.html\n"
   ]
  },
  {
   "cell_type": "markdown",
   "metadata": {},
   "source": [
    "The circuit can be drawn in text-style or with mathplotlib. Note how the name given to the registers appear on the drawing. The simple wires are qubit-wires, while the doubled-wires are for bits."
   ]
  },
  {
   "cell_type": "code",
   "execution_count": 27,
   "metadata": {},
   "outputs": [
    {
     "data": {
      "text/html": [
       "<pre style=\"word-wrap: normal;white-space: pre;background: #fff0;line-height: 1.1;font-family: &quot;Courier New&quot;,Courier,monospace\">     ┌───┐┌───┐┌───┐     ┌─┐   \n",
       "x_0: ┤ H ├┤ X ├┤ Z ├──■──┤M├───\n",
       "     └───┘└───┘└───┘┌─┴─┐└╥┘┌─┐\n",
       "x_1: ───────────────┤ X ├─╫─┤M├\n",
       "                    └───┘ ║ └╥┘\n",
       "y: 2/═════════════════════╩══╩═\n",
       "                          0  1 </pre>"
      ],
      "text/plain": [
       "     ┌───┐┌───┐┌───┐     ┌─┐   \n",
       "x_0: ┤ H ├┤ X ├┤ Z ├──■──┤M├───\n",
       "     └───┘└───┘└───┘┌─┴─┐└╥┘┌─┐\n",
       "x_1: ───────────────┤ X ├─╫─┤M├\n",
       "                    └───┘ ║ └╥┘\n",
       "y: 2/═════════════════════╩══╩═\n",
       "                          0  1 "
      ]
     },
     "execution_count": 27,
     "metadata": {},
     "output_type": "execute_result"
    }
   ],
   "source": [
    "qc.draw()"
   ]
  },
  {
   "cell_type": "markdown",
   "metadata": {},
   "source": [
    "# 2 - Runing a circuit \n",
    "\n",
    "One can run a circuit with **backends**.\n",
    "\n",
    "Here is a backend emulating the behavior of a quantum co-processor. It makes it possible to *lauch* a series of runs, keeping track of how many of each results were obtained in the classical registers (remember, each run is probabilistic)."
   ]
  },
  {
   "cell_type": "code",
   "execution_count": 28,
   "metadata": {},
   "outputs": [
    {
     "data": {
      "text/plain": [
       "{'00': 513, '11': 511}"
      ]
     },
     "execution_count": 28,
     "metadata": {},
     "output_type": "execute_result"
    }
   ],
   "source": [
    "q = QuantumRegister(2, name=\"x\")\n",
    "c = ClassicalRegister(2, name=\"y\") \n",
    "\n",
    "qc = QuantumCircuit(q,c)\n",
    "qc.h(q[0])          # build a \n",
    "qc.cnot(q[0],q[1])  # Bell state\n",
    "\n",
    "qc.measure(q, c) # measure of all of q\n",
    "\n",
    "# To run the circuit, we initialize a backend\n",
    "backend = BasicAer.get_backend('qasm_simulator')\n",
    "\n",
    "# Then performs several runs of the circuit using this backend. Here we ask for 1024 runs.\n",
    "job = execute(qc, backend, shots=1024)\n",
    "\n",
    "# To retrieve the results -- note how we only get values for the single bit-register \n",
    "res = dict(job.result().get_counts(qc))\n",
    "\n",
    "res"
   ]
  },
  {
   "cell_type": "code",
   "execution_count": 29,
   "metadata": {},
   "outputs": [
    {
     "data": {
      "text/html": [
       "<pre style=\"word-wrap: normal;white-space: pre;background: #fff0;line-height: 1.1;font-family: &quot;Courier New&quot;,Courier,monospace\">     ┌───┐     ┌─┐   \n",
       "x_0: ┤ H ├──■──┤M├───\n",
       "     └───┘┌─┴─┐└╥┘┌─┐\n",
       "x_1: ─────┤ X ├─╫─┤M├\n",
       "          └───┘ ║ └╥┘\n",
       "y: 2/═══════════╩══╩═\n",
       "                0  1 </pre>"
      ],
      "text/plain": [
       "     ┌───┐     ┌─┐   \n",
       "x_0: ┤ H ├──■──┤M├───\n",
       "     └───┘┌─┴─┐└╥┘┌─┐\n",
       "x_1: ─────┤ X ├─╫─┤M├\n",
       "          └───┘ ║ └╥┘\n",
       "y: 2/═══════════╩══╩═\n",
       "                0  1 "
      ]
     },
     "execution_count": 29,
     "metadata": {},
     "output_type": "execute_result"
    }
   ],
   "source": [
    "qc.draw()"
   ]
  },
  {
   "cell_type": "markdown",
   "metadata": {},
   "source": [
    "In what we just saw, we measured **all** of the system. The dictionary stores the number of times each key has been found with the final measure.\n",
    "\n",
    "We can however measure only part of the system: the rest is \"forgotten\". For instance, in the following we only measure the 1st qubit"
   ]
  },
  {
   "cell_type": "code",
   "execution_count": 10,
   "metadata": {},
   "outputs": [
    {
     "data": {
      "text/plain": [
       "{'1': 527, '0': 497}"
      ]
     },
     "execution_count": 10,
     "metadata": {},
     "output_type": "execute_result"
    }
   ],
   "source": [
    "q = QuantumRegister(2, name=\"x\")\n",
    "c = ClassicalRegister(1, name=\"y\")\n",
    "\n",
    "qc = QuantumCircuit(q,c)\n",
    "qc.h(q[0])          # on fabrique un \n",
    "qc.cnot(q[0],q[1])  # état de Bell\n",
    "\n",
    "\n",
    "qc.measure(q[0], c[0]) # mesure du premier qubit\n",
    "\n",
    "backend = BasicAer.get_backend('qasm_simulator')\n",
    "job = execute(qc, backend, shots=1024)\n",
    "res = dict(job.result().get_counts(qc))\n",
    "res"
   ]
  },
  {
   "cell_type": "code",
   "execution_count": 11,
   "metadata": {},
   "outputs": [
    {
     "data": {
      "text/html": [
       "<pre style=\"word-wrap: normal;white-space: pre;background: #fff0;line-height: 1.1;font-family: &quot;Courier New&quot;,Courier,monospace\">     ┌───┐     ┌─┐\n",
       "x_0: ┤ H ├──■──┤M├\n",
       "     └───┘┌─┴─┐└╥┘\n",
       "x_1: ─────┤ X ├─╫─\n",
       "          └───┘ ║ \n",
       "y: 1/═══════════╩═\n",
       "                0 </pre>"
      ],
      "text/plain": [
       "     ┌───┐     ┌─┐\n",
       "x_0: ┤ H ├──■──┤M├\n",
       "     └───┘┌─┴─┐└╥┘\n",
       "x_1: ─────┤ X ├─╫─\n",
       "          └───┘ ║ \n",
       "y: 1/═══════════╩═\n",
       "                0 "
      ]
     },
     "execution_count": 11,
     "metadata": {},
     "output_type": "execute_result"
    }
   ],
   "source": [
    "qc.draw()"
   ]
  },
  {
   "cell_type": "markdown",
   "metadata": {},
   "source": [
    "Note how the keys only contain one bit : the content of the classical register "
   ]
  },
  {
   "cell_type": "markdown",
   "metadata": {},
   "source": [
    "\n",
    "# 3 - Order of the bits in the keys\n",
    "\n",
    "Unlike what we saw in class, the bit-vector has to be read \"by turning the head on the left\" with respect to the circuit: in a register $x$, the qubit $x_0$ (top wire) is the first one. This is also the case for the classical registers.\n",
    "\n",
    "Below a concrete example:"
   ]
  },
  {
   "cell_type": "code",
   "execution_count": 12,
   "metadata": {},
   "outputs": [
    {
     "data": {
      "text/plain": [
       "{'01': 1024}"
      ]
     },
     "execution_count": 12,
     "metadata": {},
     "output_type": "execute_result"
    }
   ],
   "source": [
    "q = QuantumRegister(2)\n",
    "c = ClassicalRegister(2)\n",
    "qc = QuantumCircuit(q,c)\n",
    "\n",
    "# Applying X on qubit 0\n",
    "qc.x(q[0])\n",
    "\n",
    "# So at the end, |x_0 x_1> is in state |10>\n",
    "qc.measure(q,c)\n",
    "\n",
    "qc.draw()\n",
    "\n",
    "# And now, in register c[0] we have 1 and in c[1] we have 0. \n",
    "backend = BasicAer.get_backend('qasm_simulator')\n",
    "job = execute(qc, backend, shots=1024)\n",
    "dict(job.result().get_counts(qc))"
   ]
  },
  {
   "cell_type": "code",
   "execution_count": 13,
   "metadata": {},
   "outputs": [
    {
     "data": {
      "text/html": [
       "<pre style=\"word-wrap: normal;white-space: pre;background: #fff0;line-height: 1.1;font-family: &quot;Courier New&quot;,Courier,monospace\">       ┌───┐┌─┐\n",
       "q18_0: ┤ X ├┤M├\n",
       "       └┬─┬┘└╥┘\n",
       "q18_1: ─┤M├──╫─\n",
       "        └╥┘  ║ \n",
       " c0: 2/══╩═══╩═\n",
       "         1   0 </pre>"
      ],
      "text/plain": [
       "       ┌───┐┌─┐\n",
       "q18_0: ┤ X ├┤M├\n",
       "       └┬─┬┘└╥┘\n",
       "q18_1: ─┤M├──╫─\n",
       "        └╥┘  ║ \n",
       " c0: 2/══╩═══╩═\n",
       "         1   0 "
      ]
     },
     "execution_count": 13,
     "metadata": {},
     "output_type": "execute_result"
    }
   ],
   "source": [
    "qc.draw()"
   ]
  },
  {
   "cell_type": "markdown",
   "metadata": {},
   "source": [
    "A key should then be read $b_1b_0$ : the register $c$ is written \"$c_1c_0$\"."
   ]
  },
  {
   "cell_type": "markdown",
   "metadata": {},
   "source": [
    "# 4 - Boxing : unitaries and sub-circuits\n",
    "\n",
    "It is possible to look at a sub-circuit as a unitary gate. This circuit can then be used as many time as needed in another circuit.\n",
    "\n",
    "Beware: only circuits **without** classical registers can be boxed into a unitary gate..."
   ]
  },
  {
   "cell_type": "code",
   "execution_count": 14,
   "metadata": {},
   "outputs": [
    {
     "data": {
      "text/html": [
       "<pre style=\"word-wrap: normal;white-space: pre;background: #fff0;line-height: 1.1;font-family: &quot;Courier New&quot;,Courier,monospace\">     ┌───┐     \n",
       "x_0: ┤ H ├──■──\n",
       "     └───┘┌─┴─┐\n",
       "x_1: ─────┤ X ├\n",
       "          └───┘</pre>"
      ],
      "text/plain": [
       "     ┌───┐     \n",
       "x_0: ┤ H ├──■──\n",
       "     └───┘┌─┴─┐\n",
       "x_1: ─────┤ X ├\n",
       "          └───┘"
      ]
     },
     "execution_count": 14,
     "metadata": {},
     "output_type": "execute_result"
    }
   ],
   "source": [
    "# Let us build a circuit\n",
    "\n",
    "q = QuantumRegister(2, name=\"x\")\n",
    "aux = QuantumCircuit(q) # No classical registers !\n",
    "aux.h(q[0])\n",
    "aux.cnot(q[0],q[1])\n",
    "\n",
    "aux.draw()"
   ]
  },
  {
   "cell_type": "code",
   "execution_count": 15,
   "metadata": {},
   "outputs": [],
   "source": [
    "# We can now make a home-made gate using this circuit\n",
    "\n",
    "o = aux.to_gate(label=\"moncirc\") # name to be used in drawings"
   ]
  },
  {
   "cell_type": "code",
   "execution_count": 16,
   "metadata": {},
   "outputs": [
    {
     "data": {
      "text/html": [
       "<pre style=\"word-wrap: normal;white-space: pre;background: #fff0;line-height: 1.1;font-family: &quot;Courier New&quot;,Courier,monospace\">      ░ ┌──────────┐ ░              ░             \n",
       "x_0: ─░─┤0         ├─░──────────────░──────■──────\n",
       "      ░ │  moncirc │ ░ ┌──────────┐ ░      │      \n",
       "x_1: ─░─┤1         ├─░─┤1         ├─░──────┼──────\n",
       "      ░ └──────────┘ ░ │  moncirc │ ░ ┌────┴─────┐\n",
       "x_2: ─░──────────────░─┤0         ├─░─┤0         ├\n",
       "      ░              ░ └──────────┘ ░ │  moncirc │\n",
       "x_3: ─░──────────────░──────────────░─┤1         ├\n",
       "      ░              ░              ░ └──────────┘</pre>"
      ],
      "text/plain": [
       "      ░ ┌──────────┐ ░              ░             \n",
       "x_0: ─░─┤0         ├─░──────────────░──────■──────\n",
       "      ░ │  moncirc │ ░ ┌──────────┐ ░      │      \n",
       "x_1: ─░─┤1         ├─░─┤1         ├─░──────┼──────\n",
       "      ░ └──────────┘ ░ │  moncirc │ ░ ┌────┴─────┐\n",
       "x_2: ─░──────────────░─┤0         ├─░─┤0         ├\n",
       "      ░              ░ └──────────┘ ░ │  moncirc │\n",
       "x_3: ─░──────────────░──────────────░─┤1         ├\n",
       "      ░              ░              ░ └──────────┘"
      ]
     },
     "execution_count": 16,
     "metadata": {},
     "output_type": "execute_result"
    }
   ],
   "source": [
    "# We now have a new gate \"o\" acting on 2 qubits. We can use it as we want.\n",
    "\n",
    "q = QuantumRegister(4, name=\"x\")\n",
    "qc = QuantumCircuit(q)\n",
    "\n",
    "qc.barrier()  # To horizontally \"separate\" pieces of circuits, in drawings for instance.\n",
    "qc.append(o,[q[0],q[1]]) # adding an object \"UnitaryGate\" can be done with .append\n",
    "qc.barrier()\n",
    "qc.append(o,[q[2],q[1]]) # Check the numbering in the drawing !\n",
    "qc.barrier()\n",
    "qc.append(o.control(),[q[0],q[2],q[3]]) # We can control a door -- the first wire is the control qubit.\n",
    "\n",
    "qc.draw()\n"
   ]
  },
  {
   "cell_type": "code",
   "execution_count": 17,
   "metadata": {},
   "outputs": [
    {
     "data": {
      "text/html": [
       "<pre style=\"word-wrap: normal;white-space: pre;background: #fff0;line-height: 1.1;font-family: &quot;Courier New&quot;,Courier,monospace\">      ░ ┌───┐      ░            ░                      \n",
       "x_0: ─░─┤ H ├──■───░────────────░────────■──────────■──\n",
       "      ░ └───┘┌─┴─┐ ░      ┌───┐ ░        │          │  \n",
       "x_1: ─░──────┤ X ├─░──────┤ X ├─░────────┼──────────┼──\n",
       "      ░      └───┘ ░ ┌───┐└─┬─┘ ░ ┌──────┴───────┐  │  \n",
       "x_2: ─░────────────░─┤ H ├──■───░─┤ U(π/2,0,π,0) ├──■──\n",
       "      ░            ░ └───┘      ░ └──────────────┘┌─┴─┐\n",
       "x_3: ─░────────────░────────────░─────────────────┤ X ├\n",
       "      ░            ░            ░                 └───┘</pre>"
      ],
      "text/plain": [
       "      ░ ┌───┐      ░            ░                      \n",
       "x_0: ─░─┤ H ├──■───░────────────░────────■──────────■──\n",
       "      ░ └───┘┌─┴─┐ ░      ┌───┐ ░        │          │  \n",
       "x_1: ─░──────┤ X ├─░──────┤ X ├─░────────┼──────────┼──\n",
       "      ░      └───┘ ░ ┌───┐└─┬─┘ ░ ┌──────┴───────┐  │  \n",
       "x_2: ─░────────────░─┤ H ├──■───░─┤ U(π/2,0,π,0) ├──■──\n",
       "      ░            ░ └───┘      ░ └──────────────┘┌─┴─┐\n",
       "x_3: ─░────────────░────────────░─────────────────┤ X ├\n",
       "      ░            ░            ░                 └───┘"
      ]
     },
     "execution_count": 17,
     "metadata": {},
     "output_type": "execute_result"
    }
   ],
   "source": [
    "# One can open the boxes\n",
    "\n",
    "qc.decompose().draw()\n",
    "\n",
    "# Note how the controlled gate is splitted into native, elementary gates on 1 and 2 qubits."
   ]
  },
  {
   "cell_type": "markdown",
   "metadata": {},
   "source": [
    "# 5 - High-level operations on UnitaryGate\n",
    "\n",
    "Once we have a UnitaryGate object (for instance the 'o' object), one can perform various operations in it, such as\n",
    "* power\n",
    "* control\n",
    "* inverse\n",
    "\n",
    "However, the names get all mangled...\n",
    "\n",
    "Below some examples"
   ]
  },
  {
   "cell_type": "code",
   "execution_count": 18,
   "metadata": {},
   "outputs": [
    {
     "data": {
      "text/html": [
       "<pre style=\"word-wrap: normal;white-space: pre;background: #fff0;line-height: 1.1;font-family: &quot;Courier New&quot;,Courier,monospace\">     ┌────────────────┐┌──────────┐┌─────────────────┐┌──────────┐\n",
       "x_0: ┤0               ├┤0         ├┤0                ├┤0         ├\n",
       "     │  circuit-141^2 ││  Unitary ││  circuit-141_dg ││  moncirc │\n",
       "x_1: ┤1               ├┤1         ├┤1                ├┤1         ├\n",
       "     └────────────────┘└────┬─────┘└─────────────────┘└────┬─────┘\n",
       "x_2: ───────────────────────■──────────────────────────────o──────\n",
       "                            │                              │      \n",
       "x_3: ───────────────────────■──────────────────────────────■──────\n",
       "                                                                  </pre>"
      ],
      "text/plain": [
       "     ┌────────────────┐┌──────────┐┌─────────────────┐┌──────────┐\n",
       "x_0: ┤0               ├┤0         ├┤0                ├┤0         ├\n",
       "     │  circuit-141^2 ││  Unitary ││  circuit-141_dg ││  moncirc │\n",
       "x_1: ┤1               ├┤1         ├┤1                ├┤1         ├\n",
       "     └────────────────┘└────┬─────┘└─────────────────┘└────┬─────┘\n",
       "x_2: ───────────────────────■──────────────────────────────o──────\n",
       "                            │                              │      \n",
       "x_3: ───────────────────────■──────────────────────────────■──────\n",
       "                                                                  "
      ]
     },
     "execution_count": 18,
     "metadata": {},
     "output_type": "execute_result"
    }
   ],
   "source": [
    "q = QuantumRegister(4, name=\"x\")\n",
    "qc = QuantumCircuit(q)\n",
    "\n",
    "qc.append(o.power(2),[q[0],q[1]]) # will perform 'o' twice\n",
    "\n",
    "qc.append(o.power(5).control().control(),[q[2],q[3],q[0],q[1]]) # power and control can be combined \n",
    "\n",
    "qc.append(o.inverse(),[q[0],q[1]]) # for the inverse (the _dg in the name stands for \"dagger\")\n",
    "\n",
    "qc.append(o.control(num_ctrl_qubits=2, ctrl_state='10'),[q[2],q[3],q[0],q[1]]) \n",
    "    # one can perform a bunch of positive and negative controls in one go.\n",
    "          \n",
    "qc.draw()\n",
    "\n",
    "# Ugly names ! But the name somehow keep the power so we know where it comes from."
   ]
  },
  {
   "cell_type": "markdown",
   "metadata": {},
   "source": [
    "# 6 - Operators\n",
    "\n",
    "One can ask QisKit to build a circuit from an operator given as a matrix."
   ]
  },
  {
   "cell_type": "code",
   "execution_count": 19,
   "metadata": {},
   "outputs": [],
   "source": [
    "# What is doing this gate ?\n",
    "\n",
    "U = UnitaryGate(\n",
    "    Operator([[1,0,0,0],\n",
    "              [0,1,0,0],\n",
    "              [0,0,1,0],\n",
    "              [0,0,0,np.exp(pi*1j*1/4)]]), label=\"MyDoor\")"
   ]
  },
  {
   "cell_type": "markdown",
   "metadata": {},
   "source": [
    "The operator have to be a matrix of size power of $2$ --- the unitary gate then acts on the corresponding number of wires."
   ]
  },
  {
   "cell_type": "code",
   "execution_count": 20,
   "metadata": {},
   "outputs": [
    {
     "data": {
      "text/html": [
       "<pre style=\"word-wrap: normal;white-space: pre;background: #fff0;line-height: 1.1;font-family: &quot;Courier New&quot;,Courier,monospace\">       ┌───┐┌─────────┐\n",
       "q73_0: ┤ X ├┤0        ├\n",
       "       ├───┤│  MyDoor │\n",
       "q73_1: ┤ X ├┤1        ├\n",
       "       └───┘└─────────┘</pre>"
      ],
      "text/plain": [
       "       ┌───┐┌─────────┐\n",
       "q73_0: ┤ X ├┤0        ├\n",
       "       ├───┤│  MyDoor │\n",
       "q73_1: ┤ X ├┤1        ├\n",
       "       └───┘└─────────┘"
      ]
     },
     "execution_count": 20,
     "metadata": {},
     "output_type": "execute_result"
    }
   ],
   "source": [
    "q = QuantumRegister(2)\n",
    "qc = QuantumCircuit(q)\n",
    "\n",
    "qc.x(q) # State initialized to |11>\n",
    "\n",
    "qc.append(U,q) # In principle, a phase shift should occur.\n",
    "\n",
    "qc.draw()"
   ]
  },
  {
   "cell_type": "markdown",
   "metadata": {},
   "source": [
    "Let us check the phase shift by using another backend: 'statevector_simulator', keeping track of the state vector."
   ]
  },
  {
   "cell_type": "code",
   "execution_count": 21,
   "metadata": {},
   "outputs": [
    {
     "ename": "MissingOptionalLibraryError",
     "evalue": "\"The 'qiskit-aer' library is required to use 'Aer provider'. You can install it with 'pip install qiskit-aer'.\"",
     "output_type": "error",
     "traceback": [
      "\u001b[0;31m---------------------------------------------------------------------------\u001b[0m",
      "\u001b[0;31mImportError\u001b[0m                               Traceback (most recent call last)",
      "File \u001b[0;32m/usr/lib/python3.11/site-packages/qiskit/__init__.py:123\u001b[0m, in \u001b[0;36mAerWrapper.__getattr__\u001b[0;34m(self, attr)\u001b[0m\n\u001b[1;32m    122\u001b[0m \u001b[38;5;28;01mtry\u001b[39;00m:\n\u001b[0;32m--> 123\u001b[0m     \u001b[38;5;28;01mfrom\u001b[39;00m \u001b[38;5;21;01mqiskit\u001b[39;00m\u001b[38;5;21;01m.\u001b[39;00m\u001b[38;5;21;01mproviders\u001b[39;00m \u001b[38;5;28;01mimport\u001b[39;00m aer\n\u001b[1;32m    125\u001b[0m     \u001b[38;5;28mself\u001b[39m\u001b[38;5;241m.\u001b[39maer \u001b[38;5;241m=\u001b[39m aer\u001b[38;5;241m.\u001b[39mAer\n",
      "\u001b[0;31mImportError\u001b[0m: cannot import name 'aer' from 'qiskit.providers' (/usr/lib/python3.11/site-packages/qiskit/providers/__init__.py)",
      "\nThe above exception was the direct cause of the following exception:\n",
      "\u001b[0;31mMissingOptionalLibraryError\u001b[0m               Traceback (most recent call last)",
      "Cell \u001b[0;32mIn[21], line 1\u001b[0m\n\u001b[0;32m----> 1\u001b[0m backend \u001b[38;5;241m=\u001b[39m \u001b[43mAer\u001b[49m\u001b[38;5;241;43m.\u001b[39;49m\u001b[43mget_backend\u001b[49m(\u001b[38;5;124m'\u001b[39m\u001b[38;5;124mstatevector_simulator\u001b[39m\u001b[38;5;124m'\u001b[39m)\n\u001b[1;32m      2\u001b[0m job \u001b[38;5;241m=\u001b[39m execute(qc, backend\u001b[38;5;241m=\u001b[39mbackend, shots\u001b[38;5;241m=\u001b[39m\u001b[38;5;241m1\u001b[39m, memory\u001b[38;5;241m=\u001b[39m\u001b[38;5;28;01mTrue\u001b[39;00m)\n\u001b[1;32m      3\u001b[0m job_result \u001b[38;5;241m=\u001b[39m job\u001b[38;5;241m.\u001b[39mresult()\n",
      "File \u001b[0;32m/usr/lib/python3.11/site-packages/qiskit/__init__.py:134\u001b[0m, in \u001b[0;36mAerWrapper.__getattr__\u001b[0;34m(self, attr)\u001b[0m\n\u001b[1;32m    126\u001b[0m         warnings\u001b[38;5;241m.\u001b[39mwarn(\n\u001b[1;32m    127\u001b[0m             \u001b[38;5;124m\"\u001b[39m\u001b[38;5;124mThe qiskit.Aer entry point will be deprecated in a future release and \u001b[39m\u001b[38;5;124m\"\u001b[39m\n\u001b[1;32m    128\u001b[0m             \u001b[38;5;124m\"\u001b[39m\u001b[38;5;124msubsequently removed. Instead you should use this \u001b[39m\u001b[38;5;124m\"\u001b[39m\n\u001b[0;32m   (...)\u001b[0m\n\u001b[1;32m    131\u001b[0m             stacklevel\u001b[38;5;241m=\u001b[39m\u001b[38;5;241m2\u001b[39m,\n\u001b[1;32m    132\u001b[0m         )\n\u001b[1;32m    133\u001b[0m     \u001b[38;5;28;01mexcept\u001b[39;00m \u001b[38;5;167;01mImportError\u001b[39;00m \u001b[38;5;28;01mas\u001b[39;00m ex:\n\u001b[0;32m--> 134\u001b[0m         \u001b[38;5;28;01mraise\u001b[39;00m MissingOptionalLibraryError(\n\u001b[1;32m    135\u001b[0m             \u001b[38;5;124m\"\u001b[39m\u001b[38;5;124mqiskit-aer\u001b[39m\u001b[38;5;124m\"\u001b[39m, \u001b[38;5;124m\"\u001b[39m\u001b[38;5;124mAer provider\u001b[39m\u001b[38;5;124m\"\u001b[39m, \u001b[38;5;124m\"\u001b[39m\u001b[38;5;124mpip install qiskit-aer\u001b[39m\u001b[38;5;124m\"\u001b[39m\n\u001b[1;32m    136\u001b[0m         ) \u001b[38;5;28;01mfrom\u001b[39;00m \u001b[38;5;21;01mex\u001b[39;00m\n\u001b[1;32m    137\u001b[0m \u001b[38;5;28;01mreturn\u001b[39;00m \u001b[38;5;28mgetattr\u001b[39m(\u001b[38;5;28mself\u001b[39m\u001b[38;5;241m.\u001b[39maer, attr)\n",
      "\u001b[0;31mMissingOptionalLibraryError\u001b[0m: \"The 'qiskit-aer' library is required to use 'Aer provider'. You can install it with 'pip install qiskit-aer'.\""
     ]
    }
   ],
   "source": [
    "backend = Aer.get_backend('statevector_simulator')\n",
    "job = execute(qc, backend=backend, shots=1, memory=True)\n",
    "job_result = job.result()\n",
    "print(job_result.get_statevector(qc))\n",
    "\n",
    "# There has indeed been a phase shift !"
   ]
  },
  {
   "cell_type": "code",
   "execution_count": null,
   "metadata": {},
   "outputs": [],
   "source": []
  },
  {
   "cell_type": "code",
   "execution_count": null,
   "metadata": {},
   "outputs": [],
   "source": []
  }
 ],
 "metadata": {
  "kernelspec": {
   "display_name": "Python 3 (ipykernel)",
   "language": "python",
   "name": "python3"
  },
  "language_info": {
   "codemirror_mode": {
    "name": "ipython",
    "version": 3
   },
   "file_extension": ".py",
   "mimetype": "text/x-python",
   "name": "python",
   "nbconvert_exporter": "python",
   "pygments_lexer": "ipython3",
   "version": "3.11.5"
  }
 },
 "nbformat": 4,
 "nbformat_minor": 4
}
