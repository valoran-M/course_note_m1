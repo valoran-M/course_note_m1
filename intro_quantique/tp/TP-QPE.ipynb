{
 "cells": [
  {
   "cell_type": "markdown",
   "metadata": {},
   "source": [
    "# Part 1 : Implementing QPE\n",
    "\n",
    "## To hand out\n",
    "\n",
    "1. A **report** with your answers in a **PDF FILE** (made out of LaTeX, libreoffice, ...)\n",
    "  * Math and text answers\n",
    "  * The code for the circuits\n",
    "  * Screenshot of figures/circuits\n",
    "  * python answers and results of runs\n",
    "  * *etc*\n",
    "  \n",
    "2. **This notebook**\n",
    "  * as a runnable script\n",
    "\n",
    "But first, some libraries to load (nothing to modify here)"
   ]
  },
  {
   "cell_type": "code",
   "execution_count": 1,
   "metadata": {},
   "outputs": [],
   "source": [
    "import numpy as np\n",
    "from math import pi, gcd\n",
    "try:\n",
    "    from qiskit import *\n",
    "    from matplotlib.pyplot import plot,show\n",
    "except:\n",
    "    ! python -m pip install matplotlib pylatexenc\n",
    "    ! python -m pip install qiskit\n",
    "from qiskit import *\n",
    "from qiskit.circuit import *\n",
    "from qiskit.extensions import *\n",
    "from qiskit.circuit.library import *\n",
    "from qiskit.extensions.simulator.snapshot import snapshot\n",
    "from qiskit.quantum_info.operators import Operator\n",
    "from qiskit.extensions.simulator.snapshot import snapshot\n",
    "from qiskit.compiler import transpile\n",
    "from qiskit.transpiler import PassManager\n",
    "from qiskit.transpiler.passes import Unroller\n",
    "from scipy import optimize\n",
    "from matplotlib.pyplot import plot,show\n",
    "%matplotlib inline\n",
    "%config InlineBackend.figure_format = 'svg' # Makes the images look nice"
   ]
  },
  {
   "cell_type": "markdown",
   "metadata": {},
   "source": [
    "# 0 - Before anything else\n",
    "\n",
    "### Make sure you checked the notebook TP-Intro-QisKit\n",
    "\n",
    "\n",
    "# 1 - Small practice\n",
    "\n",
    "To start, check that when we measure $\\frac1{\\sqrt2}(|000\\rangle+|111\\rangle)$ we indeed get 000 and 111 about the same number of times. "
   ]
  },
  {
   "cell_type": "code",
   "execution_count": 14,
   "metadata": {},
   "outputs": [
    {
     "data": {
      "text/plain": [
       "{'000': 523, '111': 501}"
      ]
     },
     "execution_count": 14,
     "metadata": {},
     "output_type": "execute_result"
    }
   ],
   "source": [
    "# Generating the circuit\n",
    "\n",
    "q = QuantumRegister(3)   # We need 3 qubits..\n",
    "c = ClassicalRegister(3) # ... and 3 bits to store the results\n",
    "qc = QuantumCircuit(q,c) # the circuit !\n",
    "\n",
    "qc.h(q[0])          # build a \n",
    "\n",
    "qc.cnot(q[0],q[1])  # Bell state\n",
    "qc.cnot(q[0],q[2])  # Bell state\n",
    "\n",
    "\n",
    "qc.measure(q, c) # measure of all of q\n",
    "\n",
    "\n",
    "backend = BasicAer.get_backend('qasm_simulator')\n",
    "job = execute(qc, backend, shots=1024)\n",
    "res = dict(job.result().get_counts(qc))\n",
    "\n",
    "qc.draw(output='latex_source', filename=\"rapport/ex1.tex\")\n",
    "\n",
    "res"
   ]
  },
  {
   "cell_type": "markdown",
   "metadata": {},
   "source": [
    "#### Write record what you did and what you see in the separate report"
   ]
  },
  {
   "cell_type": "markdown",
   "metadata": {},
   "source": [
    "# 2 - QPE\n",
    "\n",
    "We've seen the QPE algorithm in the course, and you checked it worked with 3 qubits. Here we are going to implement it with the following unitary:"
   ]
  },
  {
   "cell_type": "code",
   "execution_count": 16,
   "metadata": {},
   "outputs": [],
   "source": [
    "U = UnitaryGate(\n",
    "    Operator([[1,0,0,0],\n",
    "              [0,1,0,0],\n",
    "              [0,0,1,0],\n",
    "              [0,0,0,np.exp(pi*2j*(10/16))]]), label=\"U\")"
   ]
  },
  {
   "cell_type": "markdown",
   "metadata": {},
   "source": [
    "## Questions \n",
    "\n",
    "###  Q 2.1 Math questions\n",
    "\n",
    "* What is doing this operator ? (`2j` is in Python the complex number $2\\cdot i$)\n",
    "    * $U |00\\rangle = |00\\rangle$\n",
    "    * $U |01\\rangle = |01\\rangle$\n",
    "    * $U |10\\rangle = |10\\rangle$\n",
    "    * $U |11\\rangle = e^{2j \\pi \\frac 6 8}|11\\rangle$\n",
    "* On how many qubits does it act ?\n",
    "    * 2\n",
    "* What are its eigenvalues/eigenvectors ?\n",
    "    * $|00\\rangle$ | 1\n",
    "    * $|01\\rangle$ | 1\n",
    "    * $|10\\rangle$ | 1\n",
    "    * $|11\\rangle$ | $e^{2j \\pi \\frac 6 8}$\n",
    "* For each eigenvector, what should QPE return with 3 bits of precisions, as seen in the course ?\n",
    "    * $|00\\rangle$ -> 0\n",
    "    * $|01\\rangle$ -> 0\n",
    "    * $|10\\rangle$ -> 0\n",
    "    * $|11\\rangle$ -> 6\n",
    "\n",
    "#### Give answers and explanations in the separate report "
   ]
  },
  {
   "cell_type": "markdown",
   "metadata": {},
   "source": [
    "### Q 2.2 Implementing QPE\n",
    "\n",
    "Below a template to fill in for\n",
    "- realize QPE with 3 bits of precision.\n",
    "- on the eigenvector of non-trivial eigenvalue\n",
    "\n",
    "We initialized a quantum circuit with 3 registers:\n",
    " - `eig` for storing the eigenvalues\n",
    " - `phi` for storing the eigenvector\n",
    " - `ceig` for storing the result of the measurement of the eigenvalue-register.\n",
    " \n",
    "Note that we only need to measure the eigenvalues!\n",
    "\n",
    "What you will need:\n",
    " - `QFT(size)` build for you a QFT on `size` qubits.\n",
    " - `U.control()` for controlling a gate `U`. The control qubit should be placed first in the list of wires.\n",
    " - `U.inverse()` for the inverse of the gate `U`.\n",
    " - `U.power(p)` add `p` times `U` on the circuit.\n",
    " - `qc.append(U, list_of_qubits)` applies the gate `U` on the list of qubits.\n",
    " - Beware : `phi` (for instance) is not a list but a register. So if you want to concatenate it with something else, you first have to make a list out of it with `list(phi)`."
   ]
  },
  {
   "cell_type": "code",
   "execution_count": 19,
   "metadata": {},
   "outputs": [
    {
     "data": {
      "text/html": [
       "<pre style=\"word-wrap: normal;white-space: pre;background: #fff0;line-height: 1.1;font-family: &quot;Courier New&quot;,Courier,monospace\">        ┌───┐                                                        »\n",
       " eig_0: ┤ H ├──────■─────────────────────────────────────────────────»\n",
       "        ├───┤      │                                                 »\n",
       " eig_1: ┤ H ├──────┼─────────────■───────────────────────────────────»\n",
       "        ├───┤      │             │                                   »\n",
       " eig_2: ┤ H ├──────┼─────────────┼─────────────■─────────────────────»\n",
       "        ├───┤      │             │             │                     »\n",
       " eig_3: ┤ H ├──────┼─────────────┼─────────────┼─────────────■───────»\n",
       "        ├───┤      │             │             │             │       »\n",
       " eig_4: ┤ H ├──────┼─────────────┼─────────────┼─────────────┼───────»\n",
       "        ├───┤┌─────┴──────┐┌─────┴──────┐┌─────┴──────┐┌─────┴──────┐»\n",
       " phi_0: ┤ X ├┤0           ├┤0           ├┤0           ├┤0           ├»\n",
       "        ├───┤│  unitary^1 ││  unitary^2 ││  unitary^4 ││  unitary^8 │»\n",
       " phi_1: ┤ X ├┤1           ├┤1           ├┤1           ├┤1           ├»\n",
       "        └───┘└────────────┘└────────────┘└────────────┘└────────────┘»\n",
       "ceig: 5/═════════════════════════════════════════════════════════════»\n",
       "                                                                     »\n",
       "«                       ┌───────┐┌─┐            \n",
       "« eig_0: ───────────────┤0      ├┤M├────────────\n",
       "«                       │       │└╥┘┌─┐         \n",
       "« eig_1: ───────────────┤1      ├─╫─┤M├─────────\n",
       "«                       │       │ ║ └╥┘┌─┐      \n",
       "« eig_2: ───────────────┤2 IQFT ├─╫──╫─┤M├──────\n",
       "«                       │       │ ║  ║ └╥┘┌─┐   \n",
       "« eig_3: ───────────────┤3      ├─╫──╫──╫─┤M├───\n",
       "«                       │       │ ║  ║  ║ └╥┘┌─┐\n",
       "« eig_4: ───────■───────┤4      ├─╫──╫──╫──╫─┤M├\n",
       "«        ┌──────┴──────┐└───────┘ ║  ║  ║  ║ └╥┘\n",
       "« phi_0: ┤0            ├──────────╫──╫──╫──╫──╫─\n",
       "«        │  unitary^16 │          ║  ║  ║  ║  ║ \n",
       "« phi_1: ┤1            ├──────────╫──╫──╫──╫──╫─\n",
       "«        └─────────────┘          ║  ║  ║  ║  ║ \n",
       "«ceig: 5/═════════════════════════╩══╩══╩══╩══╩═\n",
       "«                                 0  1  2  3  4 </pre>"
      ],
      "text/plain": [
       "        ┌───┐                                                        »\n",
       " eig_0: ┤ H ├──────■─────────────────────────────────────────────────»\n",
       "        ├───┤      │                                                 »\n",
       " eig_1: ┤ H ├──────┼─────────────■───────────────────────────────────»\n",
       "        ├───┤      │             │                                   »\n",
       " eig_2: ┤ H ├──────┼─────────────┼─────────────■─────────────────────»\n",
       "        ├───┤      │             │             │                     »\n",
       " eig_3: ┤ H ├──────┼─────────────┼─────────────┼─────────────■───────»\n",
       "        ├───┤      │             │             │             │       »\n",
       " eig_4: ┤ H ├──────┼─────────────┼─────────────┼─────────────┼───────»\n",
       "        ├───┤┌─────┴──────┐┌─────┴──────┐┌─────┴──────┐┌─────┴──────┐»\n",
       " phi_0: ┤ X ├┤0           ├┤0           ├┤0           ├┤0           ├»\n",
       "        ├───┤│  unitary^1 ││  unitary^2 ││  unitary^4 ││  unitary^8 │»\n",
       " phi_1: ┤ X ├┤1           ├┤1           ├┤1           ├┤1           ├»\n",
       "        └───┘└────────────┘└────────────┘└────────────┘└────────────┘»\n",
       "ceig: 5/═════════════════════════════════════════════════════════════»\n",
       "                                                                     »\n",
       "«                       ┌───────┐┌─┐            \n",
       "« eig_0: ───────────────┤0      ├┤M├────────────\n",
       "«                       │       │└╥┘┌─┐         \n",
       "« eig_1: ───────────────┤1      ├─╫─┤M├─────────\n",
       "«                       │       │ ║ └╥┘┌─┐      \n",
       "« eig_2: ───────────────┤2 IQFT ├─╫──╫─┤M├──────\n",
       "«                       │       │ ║  ║ └╥┘┌─┐   \n",
       "« eig_3: ───────────────┤3      ├─╫──╫──╫─┤M├───\n",
       "«                       │       │ ║  ║  ║ └╥┘┌─┐\n",
       "« eig_4: ───────■───────┤4      ├─╫──╫──╫──╫─┤M├\n",
       "«        ┌──────┴──────┐└───────┘ ║  ║  ║  ║ └╥┘\n",
       "« phi_0: ┤0            ├──────────╫──╫──╫──╫──╫─\n",
       "«        │  unitary^16 │          ║  ║  ║  ║  ║ \n",
       "« phi_1: ┤1            ├──────────╫──╫──╫──╫──╫─\n",
       "«        └─────────────┘          ║  ║  ║  ║  ║ \n",
       "«ceig: 5/═════════════════════════╩══╩══╩══╩══╩═\n",
       "«                                 0  1  2  3  4 "
      ]
     },
     "execution_count": 19,
     "metadata": {},
     "output_type": "execute_result"
    }
   ],
   "source": [
    "size_eig = 5\n",
    "size_phi = 2\n",
    "\n",
    "eig = QuantumRegister(size_eig, name=\"eig\")\n",
    "phi = QuantumRegister(size_phi, name=\"phi\")\n",
    "ceig = ClassicalRegister(size_eig, name=\"ceig\")\n",
    "#cphi = ClassicalRegister(size_phi, name=\"cphi\")\n",
    "qc = QuantumCircuit(eig,phi,ceig)#,cphi)\n",
    "\n",
    "qc.x(phi[0])\n",
    "qc.x(phi[1])\n",
    "#qc.cnot(phi[0], phi[1])\n",
    "for i in range(0, size_eig):\n",
    "    qc.h(eig[i])\n",
    "    qc.append(U.power(2**i).control(), [eig[i], phi[0], phi[1]])\n",
    "\n",
    "qc.append(QFT(size_eig).inverse(), eig)\n",
    "qc.measure(eig, ceig)\n",
    "#qc.measure(phi, cphi)\n",
    "\n",
    "\n",
    "\n",
    "qc.draw()\n",
    "\n",
    "# First, make sure that the drawing is OK."
   ]
  },
  {
   "cell_type": "code",
   "execution_count": 20,
   "metadata": {},
   "outputs": [
    {
     "data": {
      "text/plain": [
       "{'10100': 1024}"
      ]
     },
     "execution_count": 20,
     "metadata": {},
     "output_type": "execute_result"
    }
   ],
   "source": [
    "# Then run the backend !\n",
    "qc.draw(output='latex_source', filename=\"rapport/ex2.tex\")\n",
    "\n",
    "backend = BasicAer.get_backend('qasm_simulator')\n",
    "job = execute(qc, backend, shots=1024)\n",
    "job.result().get_counts(qc)"
   ]
  },
  {
   "cell_type": "markdown",
   "metadata": {},
   "source": [
    "### Q 2.3 Exact result\n",
    "\n",
    "- (a) Is it the expected result ? oui\n",
    "- (b) Change the $\\frac68$ of the phase of $U$: use $\\frac18$, then $\\frac28$... Is QPE returning the correct answer?\n",
    "- (c) Change the precision : use $4$ qubits for `eig`, and change the fraction in the phase of $U$ to $\\frac{10}{16}$ : is QPE indeed returning $10$ in binary ?\n",
    "- (d) Move to $5$ bits of précision: is it still working ?"
   ]
  },
  {
   "cell_type": "markdown",
   "metadata": {},
   "source": [
    "#### Give answers and explanations in the separate report "
   ]
  },
  {
   "cell_type": "markdown",
   "metadata": {},
   "source": [
    "### Q 2.4 Approximate result\n",
    "\n",
    "Use  $\\frac13$ in the phase of $U$:\n",
    "- With 3 bits of precision\n",
    "- With 4 bits of precision\n",
    "- With 5 bits of precision\n",
    "\n",
    "**Question** What do you observe? Can you explain it? What do you read?"
   ]
  },
  {
   "cell_type": "markdown",
   "metadata": {},
   "source": [
    "#### Give answers and explanations in the separate report "
   ]
  },
  {
   "cell_type": "markdown",
   "metadata": {},
   "source": [
    "### Q 2.5 Superposition\n",
    "\n",
    "We saw that the circuit of QPE has no problem with a superposition of eigenvectors. Try to change the initialization of `phi` with \n",
    "$$\n",
    "\\frac1{\\sqrt2}(|\\phi_1\\rangle + |\\phi_2\\rangle),\n",
    "$$\n",
    "two eigenvectors of $U$ (one with trivial eigenvalue, the other one non-trivial).\n",
    "\n",
    "Also measure the register `phi` at the end of the circuit, and analyze the result: can you explain what you see?\n",
    "\n",
    "Try this experiment with phase $\\frac38$ and $\\frac13$."
   ]
  },
  {
   "cell_type": "markdown",
   "metadata": {},
   "source": [
    "#### Give answers and explanations in the separate report "
   ]
  }
 ],
 "metadata": {
  "kernelspec": {
   "display_name": "Python 3 (ipykernel)",
   "language": "python",
   "name": "python3"
  },
  "language_info": {
   "codemirror_mode": {
    "name": "ipython",
    "version": 3
   },
   "file_extension": ".py",
   "mimetype": "text/x-python",
   "name": "python",
   "nbconvert_exporter": "python",
   "pygments_lexer": "ipython3",
   "version": "3.11.5"
  }
 },
 "nbformat": 4,
 "nbformat_minor": 4
}
